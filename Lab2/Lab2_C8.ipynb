{
  "nbformat": 4,
  "nbformat_minor": 0,
  "metadata": {
    "colab": {
      "name": "Lab2/C8.ipynb",
      "provenance": [],
      "authorship_tag": "ABX9TyMo+J7aGKuQ5dULwDnOgBYO",
      "include_colab_link": true
    },
    "kernelspec": {
      "name": "python3",
      "display_name": "Python 3"
    },
    "language_info": {
      "name": "python"
    }
  },
  "cells": [
    {
      "cell_type": "markdown",
      "metadata": {
        "id": "view-in-github",
        "colab_type": "text"
      },
      "source": [
        "<a href=\"https://colab.research.google.com/github/zanehmt/AdvancedPythonPrograming/blob/main/Lab2/Lab2_C8.ipynb\" target=\"_parent\"><img src=\"https://colab.research.google.com/assets/colab-badge.svg\" alt=\"Open In Colab\"/></a>"
      ]
    },
    {
      "cell_type": "code",
      "metadata": {
        "colab": {
          "base_uri": "https://localhost:8080/"
        },
        "id": "VHrG0mDLWbPJ",
        "outputId": "c85b4e1b-3ec4-4cc6-a046-2557ba294865"
      },
      "source": [
        "#1.Variable kingdoms refers to the list ['Bacteria', 'Protozoa', 'Chromista', \n",
        "#'Plantae', 'Fungi',\n",
        "#'Animalia']. Using kingdoms and either slicing or indexing with positive \n",
        "#indices,\n",
        "#write expressions that produce the following\n",
        "a = ['Bacteria', 'Protozoa', 'Chromista', \n",
        "'Plantae', 'Fungi',\n",
        "'Animalia']\n",
        "print(\"a.\"+str(a[0]))\n",
        "print(\"b.\"+str(a[5]))\n",
        "print(\"c.\"+str(a[0:3]))\n",
        "print(\"d.\"+str(a[2:5]))\n",
        "print(\"e.\"+str(a[4:]))\n",
        "print(\"f.\"+str(a[1:0]))"
      ],
      "execution_count": 28,
      "outputs": [
        {
          "output_type": "stream",
          "name": "stdout",
          "text": [
            "a.Bacteria\n",
            "b.Animalia\n",
            "c.['Bacteria', 'Protozoa', 'Chromista']\n",
            "d.['Chromista', 'Plantae', 'Fungi']\n",
            "e.['Fungi', 'Animalia']\n",
            "f.[]\n"
          ]
        }
      ]
    },
    {
      "cell_type": "code",
      "metadata": {
        "colab": {
          "base_uri": "https://localhost:8080/"
        },
        "id": "3EF9XB5NXMh7",
        "outputId": "786e3b6d-1478-41b5-eefb-bb303fbe9dc1"
      },
      "source": [
        "#2.Repeat the previous exercise using negative indices.\n",
        "print(\"a.\"+str(a[-6]))\n",
        "print(\"b.\"+str(a[-1]))\n",
        "print(\"c.\"+str(a[-6:-3]))\n",
        "print(\"d.\"+str(a[-4:-1]))\n",
        "print(\"e.\"+str(a[-2:]))\n",
        "print(\"f.\"+str(a[-6:0]))"
      ],
      "execution_count": 29,
      "outputs": [
        {
          "output_type": "stream",
          "name": "stdout",
          "text": [
            "a.Bacteria\n",
            "b.Animalia\n",
            "c.['Bacteria', 'Protozoa', 'Chromista']\n",
            "d.['Chromista', 'Plantae', 'Fungi']\n",
            "e.['Fungi', 'Animalia']\n",
            "f.[]\n"
          ]
        }
      ]
    },
    {
      "cell_type": "code",
      "metadata": {
        "colab": {
          "base_uri": "https://localhost:8080/"
        },
        "id": "1jSdn1_gYJSu",
        "outputId": "2050c1fe-ad72-4282-d5a0-3e172080ca94"
      },
      "source": [
        "#3.Variable appointments refers to the list ['9:00', '10:30', '14:00', '15:00', \n",
        "#'15:30']. An appointment is scheduled for 16:30, so '16:30' needs to be added \n",
        "#to the list\n",
        "list_number = ['9:00', '10:30', '14:00', '15:00', '15:30']\n",
        "list_number.append('16:30')\n",
        "print(\"a.\" + str(list_number))\n",
        "list_number += ['16:30']\n",
        "print(\"b.\" +str(list_number)) \n",
        "print(\"c.\" + \"\\nModified: [1] = \" + \"str new\\t Ex: [1] = 10:00\"+  \"\\n\" +\"Create a New: +[] Ex: += [10:00] return List new\")\n",
        "\n",
        "\n"
      ],
      "execution_count": 30,
      "outputs": [
        {
          "output_type": "stream",
          "name": "stdout",
          "text": [
            "a.['9:00', '10:30', '14:00', '15:00', '15:30', '16:30']\n",
            "b.['9:00', '10:30', '14:00', '15:00', '15:30', '16:30', '16:30']\n",
            "c.\n",
            "Modified: [1] = str new\t Ex: [1] = 10:00\n",
            "Create a New: +[] Ex: += [10:00] return List new\n"
          ]
        }
      ]
    },
    {
      "cell_type": "code",
      "metadata": {
        "colab": {
          "base_uri": "https://localhost:8080/"
        },
        "id": "BqUxlQqdZfUu",
        "outputId": "94f7f287-516d-4357-e34c-ee1433d73e9f"
      },
      "source": [
        "#4.Variable ids refers to the list [4353, 2314, 2956, 3382, 9362, 3900]. Using \n",
        "#list methods, do the following\n",
        "list_Number = [4353, 2314, 2956, 3382, 9362, 3900]\n",
        "list_Number.remove(3382)\n",
        "print(\"a.New list after remove: \"+str(list_Number) + \"\\tRemove 3382\") \n",
        "index = list_Number.index(9362)\n",
        "print(\"b.Index: \"+str(index))\n",
        "list_Number.insert(4,4499)\n",
        "print(\"c.New list after insert: \"+str(list_Number)+ \"\\t Insert 4499 after 9362\")\n",
        "list_clone = [5566,1830]\n",
        "list_Number.extend(list_clone)\n",
        "print(\"d.New list after extend: \"+str(list_Number))\n",
        "list_Number.reverse()\n",
        "print(\"e.New list after reverse: \"+str(list_Number))\n",
        "list_Number.sort()\n",
        "print(\"f.New list after sort: \"+str(list_Number))   "
      ],
      "execution_count": 31,
      "outputs": [
        {
          "output_type": "stream",
          "name": "stdout",
          "text": [
            "a.New list after remove: [4353, 2314, 2956, 9362, 3900]\tRemove 3382\n",
            "b.Index: 3\n",
            "c.New list after insert: [4353, 2314, 2956, 9362, 4499, 3900]\t Insert 4499 after 9362\n",
            "d.New list after extend: [4353, 2314, 2956, 9362, 4499, 3900, 5566, 1830]\n",
            "e.New list after reverse: [1830, 5566, 3900, 4499, 9362, 2956, 2314, 4353]\n",
            "f.New list after sort: [1830, 2314, 2956, 3900, 4353, 4499, 5566, 9362]\n"
          ]
        }
      ]
    },
    {
      "cell_type": "code",
      "metadata": {
        "id": "gpSckjdGcgjg"
      },
      "source": [
        "#5.In this exercise, you’ll create a list and then answer questions about that\n",
        "#list."
      ],
      "execution_count": 32,
      "outputs": []
    },
    {
      "cell_type": "code",
      "metadata": {
        "id": "tKf9x7cd2TbJ",
        "outputId": "f7faea00-0399-4a10-9566-fedda8e14087",
        "colab": {
          "base_uri": "https://localhost:8080/"
        }
      },
      "source": [
        "#6.In this exercise, you’ll create a list and then answer questions about that\n",
        "#list\n",
        "temp = [25.2,16.8,31.4,23.9,28,22.5,19.6]\n",
        "temp.sort()\n",
        "print(\"b.New temp reverse: \" + str(temp))\n",
        "cool_temps = []\n",
        "warm_temps = []\n",
        "for i in temp:\n",
        "  if(i>20):\n",
        "    warm_temps.append(i)\n",
        "  else:\n",
        "    cool_temps.append(i)\n",
        "print(\"c.Nhiet do >20: \" + str(warm_temps))\n",
        "print(\"c.Nhiet do duoi 20: \"+str(cool_temps))\n",
        "temps_in_c = cool_temps + warm_temps\n",
        "print(temps_in_c)\n"
      ],
      "execution_count": 33,
      "outputs": [
        {
          "output_type": "stream",
          "name": "stdout",
          "text": [
            "b.New temp reverse: [16.8, 19.6, 22.5, 23.9, 25.2, 28, 31.4]\n",
            "c.Nhiet do >20: [22.5, 23.9, 25.2, 28, 31.4]\n",
            "c.Nhiet do duoi 20: [16.8, 19.6]\n",
            "[16.8, 19.6, 22.5, 23.9, 25.2, 28, 31.4]\n"
          ]
        }
      ]
    },
    {
      "cell_type": "code",
      "metadata": {
        "id": "nEC7ypEh3awf",
        "outputId": "c8cf4eaf-f046-4d86-d410-9b27cc676cd2",
        "colab": {
          "base_uri": "https://localhost:8080/"
        }
      },
      "source": [
        "#Complete the examples in the docstring and then write the body of the\n",
        "#following function\n",
        "def same_first_last(L):\n",
        "  return not L or L[0] == L[-1]\n",
        "same_first_last(['apple','banana','pear'])\n"
      ],
      "execution_count": 34,
      "outputs": [
        {
          "output_type": "execute_result",
          "data": {
            "text/plain": [
              "False"
            ]
          },
          "metadata": {},
          "execution_count": 34
        }
      ]
    },
    {
      "cell_type": "code",
      "metadata": {
        "id": "vSi1Q0_y4ykR"
      },
      "source": [
        "#Complete the examples in the docstring and then write the body of the\n",
        "#following function:\n",
        "#def is_longer(L1, L2):\n"
      ],
      "execution_count": 35,
      "outputs": []
    },
    {
      "cell_type": "code",
      "metadata": {
        "id": "x3cC2rpl54Y1"
      },
      "source": [
        "#Draw a memory model showing the effect of the following statements:\n",
        "#values = [0, 1, 2]\n",
        "#values[1] = values"
      ],
      "execution_count": 36,
      "outputs": []
    },
    {
      "cell_type": "code",
      "metadata": {
        "id": "xASfUiyH55yH",
        "outputId": "a97eec40-311e-4458-c8cf-c935fa15cdb2",
        "colab": {
          "base_uri": "https://localhost:8080/"
        }
      },
      "source": [
        "#Variable units refers to the nested list [['km', 'miles', 'league'], ['kg', 'pound', \n",
        "#'stone']].\n",
        "#Using units and either slicing or indexing with positive indices, write\n",
        "#expressions that produce the following\n",
        "nested = [['km', 'miles', 'league'], ['kg', 'pound', 'stone']]\n",
        "print(nested[0][0])\n",
        "print(nested[1][-1])\n",
        "print(nested[0][0])\n",
        "print(nested[1][-3])\n",
        "print(nested[0][1:])\n",
        "print(nested[1][:2])"
      ],
      "execution_count": 37,
      "outputs": [
        {
          "output_type": "stream",
          "name": "stdout",
          "text": [
            "km\n",
            "stone\n",
            "km\n",
            "kg\n",
            "['miles', 'league']\n",
            "['kg', 'pound']\n"
          ]
        }
      ]
    },
    {
      "cell_type": "code",
      "metadata": {
        "id": "S769Ky3U7jiU",
        "outputId": "c53d0f52-b46d-45d8-e747-5cedcc6b3b1f",
        "colab": {
          "base_uri": "https://localhost:8080/"
        }
      },
      "source": [
        "#Repeat the previous exercise using negative indices\n",
        "print(nested[0][0])\n",
        "print(nested[1][-1])\n",
        "print(nested[0][0])\n",
        "print(nested[1][-3])\n",
        "print(nested[0][1:])\n",
        "print(nested[1][:2])"
      ],
      "execution_count": 38,
      "outputs": [
        {
          "output_type": "stream",
          "name": "stdout",
          "text": [
            "km\n",
            "stone\n",
            "km\n",
            "kg\n",
            "['miles', 'league']\n",
            "['kg', 'pound']\n"
          ]
        }
      ]
    }
  ]
}