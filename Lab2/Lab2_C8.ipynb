{
  "nbformat": 4,
  "nbformat_minor": 0,
  "metadata": {
    "colab": {
      "name": "Lab2/C8.ipynb",
      "provenance": [],
      "authorship_tag": "ABX9TyOSBfGun1f+AIFFbj0b6Kay",
      "include_colab_link": true
    },
    "kernelspec": {
      "name": "python3",
      "display_name": "Python 3"
    },
    "language_info": {
      "name": "python"
    }
  },
  "cells": [
    {
      "cell_type": "markdown",
      "metadata": {
        "id": "view-in-github",
        "colab_type": "text"
      },
      "source": [
        "<a href=\"https://colab.research.google.com/github/zanehmt/AdvancedPythonPrograming/blob/main/Lab2/Lab2_C8.ipynb\" target=\"_parent\"><img src=\"https://colab.research.google.com/assets/colab-badge.svg\" alt=\"Open In Colab\"/></a>"
      ]
    },
    {
      "cell_type": "code",
      "metadata": {
        "colab": {
          "base_uri": "https://localhost:8080/"
        },
        "id": "VHrG0mDLWbPJ",
        "outputId": "a2d84641-4521-4da8-8290-d829b390abed"
      },
      "source": [
        "a = ['Bacteria', 'Protozoa', 'Chromista', \n",
        "'Plantae', 'Fungi',\n",
        "'Animalia']\n",
        "print(\"a.\"+str(a[0]))\n",
        "print(\"b.\"+str(a[5]))\n",
        "print(\"c.\"+str(a[0:3]))\n",
        "print(\"d.\"+str(a[2:5]))\n",
        "print(\"e.\"+str(a[4:]))\n",
        "print(\"f.\"+str(a[1:0]))"
      ],
      "execution_count": 15,
      "outputs": [
        {
          "output_type": "stream",
          "name": "stdout",
          "text": [
            "a.Bacteria\n",
            "b.Animalia\n",
            "c.['Bacteria', 'Protozoa', 'Chromista']\n",
            "d.['Chromista', 'Plantae', 'Fungi']\n",
            "e.['Fungi', 'Animalia']\n",
            "f.[]\n"
          ]
        }
      ]
    },
    {
      "cell_type": "code",
      "metadata": {
        "colab": {
          "base_uri": "https://localhost:8080/"
        },
        "id": "3EF9XB5NXMh7",
        "outputId": "e191ab57-44aa-45d9-f2f3-2f10a42df9d1"
      },
      "source": [
        "print(\"a.\"+str(a[-6]))\n",
        "print(\"b.\"+str(a[-1]))\n",
        "print(\"c.\"+str(a[-6:-3]))\n",
        "print(\"d.\"+str(a[-4:-1]))\n",
        "print(\"e.\"+str(a[-2:]))\n",
        "print(\"f.\"+str(a[-6:0]))"
      ],
      "execution_count": 19,
      "outputs": [
        {
          "output_type": "stream",
          "name": "stdout",
          "text": [
            "a.Bacteria\n",
            "b.Animalia\n",
            "c.['Bacteria', 'Protozoa', 'Chromista']\n",
            "d.['Chromista', 'Plantae', 'Fungi']\n",
            "e.['Fungi', 'Animalia']\n",
            "f.[]\n"
          ]
        }
      ]
    },
    {
      "cell_type": "code",
      "metadata": {
        "colab": {
          "base_uri": "https://localhost:8080/"
        },
        "id": "1jSdn1_gYJSu",
        "outputId": "bf480bca-9ee4-4145-d0f9-6630ce7b8b0f"
      },
      "source": [
        "list_number = ['9:00', '10:30', '14:00', '15:00', '15:30']\n",
        "list_number.append('16:30')\n",
        "print(\"a.\" + str(list_number))\n",
        "list_number += ['16:30']\n",
        "print(\"b.\" +str(list_number)) \n",
        "print(\"c.\" + \"\\nModified: [1] = \" + \"str new\\t Ex: [1] = 10:00\"+  \"\\n\" +\"Create a New: +[] Ex: += [10:00] return List new\")\n",
        "\n",
        "\n"
      ],
      "execution_count": 30,
      "outputs": [
        {
          "output_type": "stream",
          "name": "stdout",
          "text": [
            "a.['9:00', '10:30', '14:00', '15:00', '15:30', '16:30']\n",
            "b.['9:00', '10:30', '14:00', '15:00', '15:30', '16:30', '16:30']\n",
            "c.\n",
            "Modified: [1] = str new\t Ex: [1] = 10:00\n",
            "Create a New: +[] Ex: += [10:00] return List new\n"
          ]
        }
      ]
    },
    {
      "cell_type": "code",
      "metadata": {
        "colab": {
          "base_uri": "https://localhost:8080/"
        },
        "id": "BqUxlQqdZfUu",
        "outputId": "75a25909-02bc-469b-a4fe-ba4299291805"
      },
      "source": [
        "\n",
        "list_Number = [4353, 2314, 2956, 3382, 9362, 3900]\n",
        "list_Number.remove(3382)\n",
        "print(\"a.New list after remove: \"+str(list_Number) + \"\\tRemove 3382\") \n",
        "index = list_Number.index(9362)\n",
        "print(\"b.Index: \"+str(index))\n",
        "list_Number.insert(4,4499)\n",
        "print(\"c.New list after insert: \"+str(list_Number)+ \"\\t Insert 4499 after 9362\")\n",
        "list_clone = [5566,1830]\n",
        "list_Number.extend(list_clone)\n",
        "print(\"d.New list after extend: \"+str(list_Number))\n",
        "list_Number.reverse()\n",
        "print(\"e.New list after reverse: \"+str(list_Number))\n",
        "list_Number.sort()\n",
        "print(\"f.New list after sort: \"+str(list_Number))   "
      ],
      "execution_count": 48,
      "outputs": [
        {
          "output_type": "stream",
          "name": "stdout",
          "text": [
            "a.New list after remove: [4353, 2314, 2956, 9362, 3900]\tRemove 3382\n",
            "b.Index: 3\n",
            "c.New list after insert: [4353, 2314, 2956, 9362, 4499, 3900]\t Insert 4499 after 9362\n",
            "d.New list after extend: [4353, 2314, 2956, 9362, 4499, 3900, 5566, 1830]\n",
            "e.New list after reverse: [1830, 5566, 3900, 4499, 9362, 2956, 2314, 4353]\n",
            "f.New list after sort: [1830, 2314, 2956, 3900, 4353, 4499, 5566, 9362]\n"
          ]
        }
      ]
    },
    {
      "cell_type": "code",
      "metadata": {
        "id": "gpSckjdGcgjg"
      },
      "source": [
        ""
      ],
      "execution_count": null,
      "outputs": []
    }
  ]
}