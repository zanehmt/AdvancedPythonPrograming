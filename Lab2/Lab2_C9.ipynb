{
  "nbformat": 4,
  "nbformat_minor": 0,
  "metadata": {
    "colab": {
      "name": "Lab2/C9.ipynb",
      "provenance": [],
      "collapsed_sections": [],
      "authorship_tag": "ABX9TyPHIOe9r09wsjeEIhWKWeo2",
      "include_colab_link": true
    },
    "kernelspec": {
      "name": "python3",
      "display_name": "Python 3"
    },
    "language_info": {
      "name": "python"
    }
  },
  "cells": [
    {
      "cell_type": "markdown",
      "metadata": {
        "id": "view-in-github",
        "colab_type": "text"
      },
      "source": [
        "<a href=\"https://colab.research.google.com/github/zanehmt/AdvancedPythonPrograming/blob/main/Lab2/Lab2_C9.ipynb\" target=\"_parent\"><img src=\"https://colab.research.google.com/assets/colab-badge.svg\" alt=\"Open In Colab\"/></a>"
      ]
    },
    {
      "cell_type": "code",
      "metadata": {
        "colab": {
          "base_uri": "https://localhost:8080/"
        },
        "id": "jMyNsSqq7zxt",
        "outputId": "dac86b86-12f0-493a-811c-f21d5087d404"
      },
      "source": [
        "celegans_phenotypes =  ['Emb','Him', 'Unc', 'Lon', 'Dpy', 'Sma']\n",
        "for phenotype in celegans_phenotypes:\n",
        "  print(phenotype)"
      ],
      "execution_count": 20,
      "outputs": [
        {
          "output_type": "stream",
          "name": "stdout",
          "text": [
            "Emb\n",
            "Him\n",
            "Unc\n",
            "Lon\n",
            "Dpy\n",
            "Sma\n"
          ]
        }
      ]
    },
    {
      "cell_type": "code",
      "metadata": {
        "colab": {
          "base_uri": "https://localhost:8080/"
        },
        "id": "jH4Y3O3P8Cde",
        "outputId": "25f97619-c43d-4ebd-9ea9-19f22335155b"
      },
      "source": [
        "half_lives = [87.74, 24110.0,6537.0, 14.4, 376000.0]\n",
        "for value in half_lives:\n",
        "  print(value, end=' ')"
      ],
      "execution_count": 21,
      "outputs": [
        {
          "output_type": "stream",
          "name": "stdout",
          "text": [
            "87.74 24110.0 6537.0 14.4 376000.0 "
          ]
        }
      ]
    },
    {
      "cell_type": "code",
      "metadata": {
        "colab": {
          "base_uri": "https://localhost:8080/"
        },
        "id": "ubAmf5Au8NIN",
        "outputId": "f88c5e03-7125-414d-df99-f6c15ebabd1a"
      },
      "source": [
        "whales = [5, 4, 7, 3, 2, 3, 2, 6, 4, 2, 1, 7, 1, 3]\n",
        "more_whales = []\n",
        "for count in whales:\n",
        "  more_whales.append(count + 1)\n",
        "more_whales"
      ],
      "execution_count": 22,
      "outputs": [
        {
          "output_type": "execute_result",
          "data": {
            "text/plain": [
              "[6, 5, 8, 4, 3, 4, 3, 7, 5, 3, 2, 8, 2, 4]"
            ]
          },
          "metadata": {},
          "execution_count": 22
        }
      ]
    },
    {
      "cell_type": "code",
      "metadata": {
        "id": "T1sl_G2B8eyi"
      },
      "source": [
        "#4"
      ],
      "execution_count": 23,
      "outputs": []
    },
    {
      "cell_type": "code",
      "metadata": {
        "id": "qeGrPXnM8mjX"
      },
      "source": [
        "#\n",
        "def mystery_function(values):\n",
        "  result = []\n",
        "  for sublist in values:\n",
        "    result.append([sublist[0]])\n",
        "    for i in sublist[1:]:\n",
        "      result[-1].insert(0, i)\n",
        "  return result\n"
      ],
      "execution_count": 24,
      "outputs": []
    },
    {
      "cell_type": "code",
      "metadata": {
        "colab": {
          "base_uri": "https://localhost:8080/"
        },
        "id": "FLsEyUV-9aqG",
        "outputId": "772f61e2-ae97-4c37-d6dc-df3d850f4362"
      },
      "source": [
        "a = input(\"QUIT or quit\")\n",
        "while a != 'quit' or a != 'QUIT':\n",
        "  a = input(\"QUIT or quit\")\n",
        "  break\n",
        "\n"
      ],
      "execution_count": 25,
      "outputs": [
        {
          "name": "stdout",
          "output_type": "stream",
          "text": [
            "QUIT or quitquit\n",
            "QUIT or quitquit\n"
          ]
        }
      ]
    },
    {
      "cell_type": "code",
      "metadata": {
        "id": "_snIXXKG-J4o"
      },
      "source": [
        ""
      ],
      "execution_count": 25,
      "outputs": []
    }
  ]
}