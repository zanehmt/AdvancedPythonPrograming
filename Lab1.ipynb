{
  "nbformat": 4,
  "nbformat_minor": 0,
  "metadata": {
    "colab": {
      "name": "Untitled2.ipynb",
      "provenance": [],
      "collapsed_sections": [],
      "toc_visible": true,
      "authorship_tag": "ABX9TyM8INbsZtMSkJBI1eKXdvib",
      "include_colab_link": true
    },
    "kernelspec": {
      "name": "python3",
      "display_name": "Python 3"
    },
    "language_info": {
      "name": "python"
    }
  },
  "cells": [
    {
      "cell_type": "markdown",
      "metadata": {
        "id": "view-in-github",
        "colab_type": "text"
      },
      "source": [
        "<a href=\"https://colab.research.google.com/github/zanehmt/AdvancedPythonPrograming/blob/main/Lab1.ipynb\" target=\"_parent\"><img src=\"https://colab.research.google.com/assets/colab-badge.svg\" alt=\"Open In Colab\"/></a>"
      ]
    },
    {
      "cell_type": "code",
      "metadata": {
        "colab": {
          "base_uri": "https://localhost:8080/"
        },
        "id": "FDgyK8X3FAn-",
        "outputId": "2580dafc-50a4-41b6-edb0-4e77866e9c41"
      },
      "source": [
        "min(2,3,4)"
      ],
      "execution_count": 1,
      "outputs": [
        {
          "output_type": "execute_result",
          "data": {
            "text/plain": [
              "2"
            ]
          },
          "metadata": {},
          "execution_count": 1
        }
      ]
    },
    {
      "cell_type": "code",
      "metadata": {
        "id": "YE3w-CvnGUAU",
        "outputId": "288def2b-9e08-4556-f9fe-8a8566e4ee95",
        "colab": {
          "base_uri": "https://localhost:8080/"
        }
      },
      "source": [
        "max(2, -3, 4, 7, -5)"
      ],
      "execution_count": 2,
      "outputs": [
        {
          "output_type": "execute_result",
          "data": {
            "text/plain": [
              "7"
            ]
          },
          "metadata": {},
          "execution_count": 2
        }
      ]
    },
    {
      "cell_type": "code",
      "metadata": {
        "colab": {
          "base_uri": "https://localhost:8080/"
        },
        "id": "eThcS-BzFaRT",
        "outputId": "1e5dd849-43e6-4826-e5d2-114e1fc50456"
      },
      "source": [
        "max(2, -3, min(4, 7), -5)\n"
      ],
      "execution_count": 3,
      "outputs": [
        {
          "output_type": "execute_result",
          "data": {
            "text/plain": [
              "4"
            ]
          },
          "metadata": {},
          "execution_count": 3
        }
      ]
    },
    {
      "cell_type": "markdown",
      "metadata": {
        "id": "uHgNs-A5GhJe"
      },
      "source": [
        "Bài 2\n"
      ]
    },
    {
      "cell_type": "code",
      "metadata": {
        "id": "-j_VJbz_Gi56",
        "outputId": "9ce12f08-ec16-4ab5-9cd1-de9b4479a692",
        "colab": {
          "base_uri": "https://localhost:8080/"
        }
      },
      "source": [
        "min(max(3, 4), abs(-5))"
      ],
      "execution_count": 4,
      "outputs": [
        {
          "output_type": "execute_result",
          "data": {
            "text/plain": [
              "4"
            ]
          },
          "metadata": {},
          "execution_count": 4
        }
      ]
    },
    {
      "cell_type": "code",
      "metadata": {
        "id": "Rin8a0f5GnHa",
        "outputId": "14498efe-6a8c-4cae-9a14-a248b982838c",
        "colab": {
          "base_uri": "https://localhost:8080/"
        }
      },
      "source": [
        "abs(min(4, 6, max(2, 8)))"
      ],
      "execution_count": 5,
      "outputs": [
        {
          "output_type": "execute_result",
          "data": {
            "text/plain": [
              "4"
            ]
          },
          "metadata": {},
          "execution_count": 5
        }
      ]
    },
    {
      "cell_type": "code",
      "metadata": {
        "id": "ZmXRhxlGGqr6",
        "outputId": "feffee72-f44b-46d5-a4de-fd372bce3341",
        "colab": {
          "base_uri": "https://localhost:8080/"
        }
      },
      "source": [
        "round(max(5.572, 3.258), abs(-2))"
      ],
      "execution_count": 6,
      "outputs": [
        {
          "output_type": "execute_result",
          "data": {
            "text/plain": [
              "5.57"
            ]
          },
          "metadata": {},
          "execution_count": 6
        }
      ]
    },
    {
      "cell_type": "code",
      "metadata": {
        "id": "J28-eD81Gs16"
      },
      "source": [
        "def triple(num):\n",
        "  return num * 3"
      ],
      "execution_count": 7,
      "outputs": []
    },
    {
      "cell_type": "code",
      "metadata": {
        "id": "BOo3AyLXGzYz",
        "outputId": "ed1dff2a-41ed-401d-891e-c91b3afbcf78",
        "colab": {
          "base_uri": "https://localhost:8080/"
        }
      },
      "source": [
        "triple(3)"
      ],
      "execution_count": 8,
      "outputs": [
        {
          "output_type": "execute_result",
          "data": {
            "text/plain": [
              "9"
            ]
          },
          "metadata": {},
          "execution_count": 8
        }
      ]
    },
    {
      "cell_type": "code",
      "metadata": {
        "id": "rtdxWfQ4G3ZE"
      },
      "source": [
        "def absolute_difference(number1, number2):\n",
        "  return abs(number1 - number2)\n"
      ],
      "execution_count": 10,
      "outputs": []
    },
    {
      "cell_type": "code",
      "metadata": {
        "id": "gxBCeG31G8Uz",
        "outputId": "ea792321-483e-4545-cc60-602306033636",
        "colab": {
          "base_uri": "https://localhost:8080/"
        }
      },
      "source": [
        "absolute_difference(10,20)"
      ],
      "execution_count": 11,
      "outputs": [
        {
          "output_type": "execute_result",
          "data": {
            "text/plain": [
              "10"
            ]
          },
          "metadata": {},
          "execution_count": 11
        }
      ]
    },
    {
      "cell_type": "code",
      "metadata": {
        "id": "YTffk4EmHBnn"
      },
      "source": [
        "def km_to_miles(km):\n",
        "  return km / 1.6"
      ],
      "execution_count": 12,
      "outputs": []
    },
    {
      "cell_type": "code",
      "metadata": {
        "id": "VLu_sM_MHEqL",
        "outputId": "35a867a8-93d1-4017-b9ad-1672a18e77ca",
        "colab": {
          "base_uri": "https://localhost:8080/"
        }
      },
      "source": [
        "km_to_miles(10)"
      ],
      "execution_count": 13,
      "outputs": [
        {
          "output_type": "execute_result",
          "data": {
            "text/plain": [
              "6.25"
            ]
          },
          "metadata": {},
          "execution_count": 13
        }
      ]
    },
    {
      "cell_type": "code",
      "metadata": {
        "id": "D30UjfPtHqXW"
      },
      "source": [
        "def average_grade(grade1, grade2, grade3):\n",
        "  return (grade1 + grade2 + grade3) / 3"
      ],
      "execution_count": 14,
      "outputs": []
    },
    {
      "cell_type": "code",
      "metadata": {
        "id": "7V_5s4XCHtR-",
        "outputId": "93873a3c-176d-4e2a-9849-b5eea40d0287",
        "colab": {
          "base_uri": "https://localhost:8080/"
        }
      },
      "source": [
        "average_grade(3,4,5)"
      ],
      "execution_count": 15,
      "outputs": [
        {
          "output_type": "execute_result",
          "data": {
            "text/plain": [
              "4.0"
            ]
          },
          "metadata": {},
          "execution_count": 15
        }
      ]
    }
  ]
}