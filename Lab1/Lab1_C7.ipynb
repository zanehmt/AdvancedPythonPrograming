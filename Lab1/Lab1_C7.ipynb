{
  "nbformat": 4,
  "nbformat_minor": 0,
  "metadata": {
    "colab": {
      "name": "Lab1_C7.ipynb",
      "provenance": [],
      "authorship_tag": "ABX9TyPVfmsRLZvrcAqy1w2G6yXi",
      "include_colab_link": true
    },
    "kernelspec": {
      "name": "python3",
      "display_name": "Python 3"
    },
    "language_info": {
      "name": "python"
    }
  },
  "cells": [
    {
      "cell_type": "markdown",
      "metadata": {
        "id": "view-in-github",
        "colab_type": "text"
      },
      "source": [
        "<a href=\"https://colab.research.google.com/github/zanehmt/AdvancedPythonPrograming/blob/main/Lab1/Lab1_C7.ipynb\" target=\"_parent\"><img src=\"https://colab.research.google.com/assets/colab-badge.svg\" alt=\"Open In Colab\"/></a>"
      ]
    },
    {
      "cell_type": "markdown",
      "metadata": {
        "id": "9CLOtSU6Kxxs"
      },
      "source": [
        "1. In the Python shell, execute the following method calls:\n",
        "a. 'hello'.upper()\n",
        "b. 'Happy Birthday!'.lower()\n",
        "c. 'WeeeEEEEeeeEEEEeee'.swapcase()\n",
        "d. 'ABC123'.isupper()\n",
        "e. 'aeiouAEIOU'.count('a')\n",
        "f. 'hello'.endswith('o')\n",
        "g. 'hello'.startswith('H')\n",
        "h. 'Hello {0}'.format('Python')\n",
        "i. 'Hello {0}! Hello {1}!'.format('Python', 'World'"
      ]
    },
    {
      "cell_type": "code",
      "metadata": {
        "colab": {
          "base_uri": "https://localhost:8080/",
          "height": 35
        },
        "id": "AjL_KQSIKLuQ",
        "outputId": "9e3dbd1c-aecf-4649-b8d7-02d7a30b185a"
      },
      "source": [
        "'hello'.upper()"
      ],
      "execution_count": null,
      "outputs": [
        {
          "output_type": "execute_result",
          "data": {
            "application/vnd.google.colaboratory.intrinsic+json": {
              "type": "string"
            },
            "text/plain": [
              "'HELLO'"
            ]
          },
          "metadata": {},
          "execution_count": 7
        }
      ]
    },
    {
      "cell_type": "code",
      "metadata": {
        "colab": {
          "base_uri": "https://localhost:8080/",
          "height": 35
        },
        "id": "mRRGQXhkKU_k",
        "outputId": "2572b84c-b8bf-4abe-b9f9-8fde32467913"
      },
      "source": [
        "'Happy Birthday!'.lower()"
      ],
      "execution_count": null,
      "outputs": [
        {
          "output_type": "execute_result",
          "data": {
            "application/vnd.google.colaboratory.intrinsic+json": {
              "type": "string"
            },
            "text/plain": [
              "'happy birthday!'"
            ]
          },
          "metadata": {},
          "execution_count": 8
        }
      ]
    },
    {
      "cell_type": "code",
      "metadata": {
        "colab": {
          "base_uri": "https://localhost:8080/",
          "height": 35
        },
        "id": "k0sZA-yLKicu",
        "outputId": "58210667-275b-4fde-f05a-2640742b4d04"
      },
      "source": [
        "'WeeeEEEEeeeEEEEeee'.swapcase()\n"
      ],
      "execution_count": null,
      "outputs": [
        {
          "output_type": "execute_result",
          "data": {
            "application/vnd.google.colaboratory.intrinsic+json": {
              "type": "string"
            },
            "text/plain": [
              "'wEEEeeeeEEEeeeeEEE'"
            ]
          },
          "metadata": {},
          "execution_count": 9
        }
      ]
    },
    {
      "cell_type": "code",
      "metadata": {
        "colab": {
          "base_uri": "https://localhost:8080/"
        },
        "id": "nNy3YsDyKmyb",
        "outputId": "a7e4a5cd-83ba-493e-ee78-c14aa49a2ed4"
      },
      "source": [
        "'ABC123'.isupper()\n"
      ],
      "execution_count": null,
      "outputs": [
        {
          "output_type": "execute_result",
          "data": {
            "text/plain": [
              "True"
            ]
          },
          "metadata": {},
          "execution_count": 10
        }
      ]
    },
    {
      "cell_type": "code",
      "metadata": {
        "colab": {
          "base_uri": "https://localhost:8080/"
        },
        "id": "ufKgCGrkKofr",
        "outputId": "d1f61815-ebb7-4bbc-bb4c-cdb3b2c7e140"
      },
      "source": [
        "'aeiouAEIOU'.count('a')\n"
      ],
      "execution_count": null,
      "outputs": [
        {
          "output_type": "execute_result",
          "data": {
            "text/plain": [
              "1"
            ]
          },
          "metadata": {},
          "execution_count": 11
        }
      ]
    },
    {
      "cell_type": "code",
      "metadata": {
        "colab": {
          "base_uri": "https://localhost:8080/"
        },
        "id": "BOdCMEnxKqR8",
        "outputId": "58f9881d-daa9-4576-90db-dbd763750294"
      },
      "source": [
        "'hello'.endswith('o')"
      ],
      "execution_count": null,
      "outputs": [
        {
          "output_type": "execute_result",
          "data": {
            "text/plain": [
              "True"
            ]
          },
          "metadata": {},
          "execution_count": 12
        }
      ]
    },
    {
      "cell_type": "code",
      "metadata": {
        "colab": {
          "base_uri": "https://localhost:8080/"
        },
        "id": "9y0-6UsMKrRK",
        "outputId": "01873c84-86cc-49df-f4a3-7acd43c48e41"
      },
      "source": [
        "'hello'.startswith('H')"
      ],
      "execution_count": null,
      "outputs": [
        {
          "output_type": "execute_result",
          "data": {
            "text/plain": [
              "False"
            ]
          },
          "metadata": {},
          "execution_count": 13
        }
      ]
    },
    {
      "cell_type": "code",
      "metadata": {
        "colab": {
          "base_uri": "https://localhost:8080/",
          "height": 35
        },
        "id": "kN-HHPHIKt2X",
        "outputId": "dcd23adf-a6e2-4d1d-f98f-f02b98d709bd"
      },
      "source": [
        "'Hello {0}'.format('Python')\n"
      ],
      "execution_count": null,
      "outputs": [
        {
          "output_type": "execute_result",
          "data": {
            "application/vnd.google.colaboratory.intrinsic+json": {
              "type": "string"
            },
            "text/plain": [
              "'Hello Python'"
            ]
          },
          "metadata": {},
          "execution_count": 14
        }
      ]
    },
    {
      "cell_type": "code",
      "metadata": {
        "colab": {
          "base_uri": "https://localhost:8080/",
          "height": 35
        },
        "id": "Bhy9b9vGKvJD",
        "outputId": "27785a38-868c-4026-fc00-2bce78705c4b"
      },
      "source": [
        "'Hello {0}! Hello {1}!'.format('Python', 'World')\n"
      ],
      "execution_count": null,
      "outputs": [
        {
          "output_type": "execute_result",
          "data": {
            "application/vnd.google.colaboratory.intrinsic+json": {
              "type": "string"
            },
            "text/plain": [
              "'Hello Python! Hello World!'"
            ]
          },
          "metadata": {},
          "execution_count": 15
        }
      ]
    },
    {
      "cell_type": "markdown",
      "metadata": {
        "id": "MGMcr4fvLDay"
      },
      "source": [
        "Using string method count, write an expression that produces the number\n",
        "of o’s in 'tomato'"
      ]
    },
    {
      "cell_type": "code",
      "metadata": {
        "colab": {
          "base_uri": "https://localhost:8080/"
        },
        "id": "JOrKD8VoLPmD",
        "outputId": "d65efc99-3f48-4aea-9eb8-5395c9fe68fb"
      },
      "source": [
        "a = 'tomato'\n",
        "print(a.count('o'))"
      ],
      "execution_count": null,
      "outputs": [
        {
          "output_type": "stream",
          "name": "stdout",
          "text": [
            "2\n"
          ]
        }
      ]
    },
    {
      "cell_type": "markdown",
      "metadata": {
        "id": "JaR8UmmsLjtZ"
      },
      "source": [
        "Using string method find, write an expression that produces the index of\n",
        "the first occurrence of o in 'tomato'."
      ]
    },
    {
      "cell_type": "code",
      "metadata": {
        "colab": {
          "base_uri": "https://localhost:8080/"
        },
        "id": "422_JYlBLkfD",
        "outputId": "052d9e4f-fe64-47aa-a881-604f724aa8fc"
      },
      "source": [
        "a = 'tomato'\n",
        "print(a.find('o'))"
      ],
      "execution_count": null,
      "outputs": [
        {
          "output_type": "stream",
          "name": "stdout",
          "text": [
            "1\n"
          ]
        }
      ]
    },
    {
      "cell_type": "markdown",
      "metadata": {
        "id": "l2_2QyscMAqM"
      },
      "source": [
        "Using string method find, write a single expression that produces the index\n",
        "of the second occurrence of o in 'tomato'. Hint: Call find twice.\n"
      ]
    },
    {
      "cell_type": "code",
      "metadata": {
        "colab": {
          "base_uri": "https://localhost:8080/"
        },
        "id": "b4hpfKEBMEI5",
        "outputId": "01e39d62-f1b8-45f8-e406-a6a133c942a7"
      },
      "source": [
        "a = 'tomato'\n",
        "print(a.find('o',2))"
      ],
      "execution_count": null,
      "outputs": [
        {
          "output_type": "stream",
          "name": "stdout",
          "text": [
            "5\n"
          ]
        }
      ]
    },
    {
      "cell_type": "markdown",
      "metadata": {
        "id": "mJkBS28CMbbi"
      },
      "source": [
        "Using your expression from the previous exercise, find the second o in\n",
        "'avocado'. If you don’t get the result you expect, revise the expression and\n",
        "try again"
      ]
    },
    {
      "cell_type": "code",
      "metadata": {
        "colab": {
          "base_uri": "https://localhost:8080/"
        },
        "id": "8NPkG1arMdyR",
        "outputId": "d4db35ea-fcd5-464e-a1d5-a8c142e8acdd"
      },
      "source": [
        "a = 'avocado'\n",
        "a.find('o',3)"
      ],
      "execution_count": null,
      "outputs": [
        {
          "output_type": "execute_result",
          "data": {
            "text/plain": [
              "6"
            ]
          },
          "metadata": {},
          "execution_count": 21
        }
      ]
    },
    {
      "cell_type": "markdown",
      "metadata": {
        "id": "3n66SN1pMr3M"
      },
      "source": [
        "Using string method replace, write an expression that produces a string\n",
        "based on 'runner' with the n’s replaced by b’s"
      ]
    },
    {
      "cell_type": "code",
      "metadata": {
        "colab": {
          "base_uri": "https://localhost:8080/",
          "height": 35
        },
        "id": "W2yf-PCgMwid",
        "outputId": "0f1bfd21-e4b1-4764-dcf3-96712cb0ef40"
      },
      "source": [
        "a = 'runner'\n",
        "a.replace('n','b')"
      ],
      "execution_count": null,
      "outputs": [
        {
          "output_type": "execute_result",
          "data": {
            "application/vnd.google.colaboratory.intrinsic+json": {
              "type": "string"
            },
            "text/plain": [
              "'rubber'"
            ]
          },
          "metadata": {},
          "execution_count": 22
        }
      ]
    }
  ]
}