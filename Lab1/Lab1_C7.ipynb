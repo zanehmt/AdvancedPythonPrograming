{
  "nbformat": 4,
  "nbformat_minor": 0,
  "metadata": {
    "colab": {
      "name": "Lab1_C7.ipynb",
      "provenance": [],
      "authorship_tag": "ABX9TyMQEmc6XrSpSSCSQF+QJ+WE",
      "include_colab_link": true
    },
    "kernelspec": {
      "name": "python3",
      "display_name": "Python 3"
    },
    "language_info": {
      "name": "python"
    }
  },
  "cells": [
    {
      "cell_type": "markdown",
      "metadata": {
        "id": "view-in-github",
        "colab_type": "text"
      },
      "source": [
        "<a href=\"https://colab.research.google.com/github/zanehmt/AdvancedPythonPrograming/blob/main/Lab1/Lab1_C7.ipynb\" target=\"_parent\"><img src=\"https://colab.research.google.com/assets/colab-badge.svg\" alt=\"Open In Colab\"/></a>"
      ]
    },
    {
      "cell_type": "markdown",
      "metadata": {
        "id": "9CLOtSU6Kxxs"
      },
      "source": [
        "1. In the Python shell, execute the following method calls:\n",
        "a. 'hello'.upper()\n",
        "b. 'Happy Birthday!'.lower()\n",
        "c. 'WeeeEEEEeeeEEEEeee'.swapcase()\n",
        "d. 'ABC123'.isupper()\n",
        "e. 'aeiouAEIOU'.count('a')\n",
        "f. 'hello'.endswith('o')\n",
        "g. 'hello'.startswith('H')\n",
        "h. 'Hello {0}'.format('Python')\n",
        "i. 'Hello {0}! Hello {1}!'.format('Python', 'World'"
      ]
    },
    {
      "cell_type": "code",
      "metadata": {
        "colab": {
          "base_uri": "https://localhost:8080/",
          "height": 35
        },
        "id": "AjL_KQSIKLuQ",
        "outputId": "7d4eb99a-35de-4c99-9217-f82e11975196"
      },
      "source": [
        "'hello'.upper()"
      ],
      "execution_count": 66,
      "outputs": [
        {
          "output_type": "execute_result",
          "data": {
            "application/vnd.google.colaboratory.intrinsic+json": {
              "type": "string"
            },
            "text/plain": [
              "'HELLO'"
            ]
          },
          "metadata": {},
          "execution_count": 66
        }
      ]
    },
    {
      "cell_type": "code",
      "metadata": {
        "colab": {
          "base_uri": "https://localhost:8080/",
          "height": 35
        },
        "id": "mRRGQXhkKU_k",
        "outputId": "ec9a817b-0586-4a0b-dc4e-02ec103b7596"
      },
      "source": [
        "'Happy Birthday!'.lower()"
      ],
      "execution_count": 67,
      "outputs": [
        {
          "output_type": "execute_result",
          "data": {
            "application/vnd.google.colaboratory.intrinsic+json": {
              "type": "string"
            },
            "text/plain": [
              "'happy birthday!'"
            ]
          },
          "metadata": {},
          "execution_count": 67
        }
      ]
    },
    {
      "cell_type": "code",
      "metadata": {
        "colab": {
          "base_uri": "https://localhost:8080/",
          "height": 35
        },
        "id": "k0sZA-yLKicu",
        "outputId": "a161a75f-d84b-4515-e559-29d51488d016"
      },
      "source": [
        "'WeeeEEEEeeeEEEEeee'.swapcase()\n"
      ],
      "execution_count": 68,
      "outputs": [
        {
          "output_type": "execute_result",
          "data": {
            "application/vnd.google.colaboratory.intrinsic+json": {
              "type": "string"
            },
            "text/plain": [
              "'wEEEeeeeEEEeeeeEEE'"
            ]
          },
          "metadata": {},
          "execution_count": 68
        }
      ]
    },
    {
      "cell_type": "code",
      "metadata": {
        "colab": {
          "base_uri": "https://localhost:8080/"
        },
        "id": "nNy3YsDyKmyb",
        "outputId": "1033d363-bf10-4033-a095-b348dcd8b5dc"
      },
      "source": [
        "'ABC123'.isupper()\n"
      ],
      "execution_count": 69,
      "outputs": [
        {
          "output_type": "execute_result",
          "data": {
            "text/plain": [
              "True"
            ]
          },
          "metadata": {},
          "execution_count": 69
        }
      ]
    },
    {
      "cell_type": "code",
      "metadata": {
        "colab": {
          "base_uri": "https://localhost:8080/"
        },
        "id": "ufKgCGrkKofr",
        "outputId": "5053e453-d344-4617-d34e-1f1d78384770"
      },
      "source": [
        "'aeiouAEIOU'.count('a')\n"
      ],
      "execution_count": 70,
      "outputs": [
        {
          "output_type": "execute_result",
          "data": {
            "text/plain": [
              "1"
            ]
          },
          "metadata": {},
          "execution_count": 70
        }
      ]
    },
    {
      "cell_type": "code",
      "metadata": {
        "colab": {
          "base_uri": "https://localhost:8080/"
        },
        "id": "BOdCMEnxKqR8",
        "outputId": "e3e0298a-edaa-4f09-8e8c-ef41df73ed0a"
      },
      "source": [
        "'hello'.endswith('o')"
      ],
      "execution_count": 71,
      "outputs": [
        {
          "output_type": "execute_result",
          "data": {
            "text/plain": [
              "True"
            ]
          },
          "metadata": {},
          "execution_count": 71
        }
      ]
    },
    {
      "cell_type": "code",
      "metadata": {
        "colab": {
          "base_uri": "https://localhost:8080/"
        },
        "id": "9y0-6UsMKrRK",
        "outputId": "b7a67794-5956-4d65-a1a6-7ec498294bbe"
      },
      "source": [
        "'hello'.startswith('H')"
      ],
      "execution_count": 72,
      "outputs": [
        {
          "output_type": "execute_result",
          "data": {
            "text/plain": [
              "False"
            ]
          },
          "metadata": {},
          "execution_count": 72
        }
      ]
    },
    {
      "cell_type": "code",
      "metadata": {
        "colab": {
          "base_uri": "https://localhost:8080/",
          "height": 35
        },
        "id": "kN-HHPHIKt2X",
        "outputId": "a0c58a5e-7229-487e-b706-e2f4d1187e93"
      },
      "source": [
        "'Hello {0}'.format('Python')\n"
      ],
      "execution_count": 73,
      "outputs": [
        {
          "output_type": "execute_result",
          "data": {
            "application/vnd.google.colaboratory.intrinsic+json": {
              "type": "string"
            },
            "text/plain": [
              "'Hello Python'"
            ]
          },
          "metadata": {},
          "execution_count": 73
        }
      ]
    },
    {
      "cell_type": "code",
      "metadata": {
        "colab": {
          "base_uri": "https://localhost:8080/",
          "height": 35
        },
        "id": "Bhy9b9vGKvJD",
        "outputId": "08a5d0f2-668b-411a-81ca-2aad8748b7a9"
      },
      "source": [
        "'Hello {0}! Hello {1}!'.format('Python', 'World')\n"
      ],
      "execution_count": 74,
      "outputs": [
        {
          "output_type": "execute_result",
          "data": {
            "application/vnd.google.colaboratory.intrinsic+json": {
              "type": "string"
            },
            "text/plain": [
              "'Hello Python! Hello World!'"
            ]
          },
          "metadata": {},
          "execution_count": 74
        }
      ]
    },
    {
      "cell_type": "markdown",
      "metadata": {
        "id": "MGMcr4fvLDay"
      },
      "source": [
        "Using string method count, write an expression that produces the number\n",
        "of o’s in 'tomato'"
      ]
    },
    {
      "cell_type": "code",
      "metadata": {
        "colab": {
          "base_uri": "https://localhost:8080/"
        },
        "id": "JOrKD8VoLPmD",
        "outputId": "3b5a081b-08f1-4267-cf68-247538972720"
      },
      "source": [
        "a = 'tomato'\n",
        "print(a.count('o'))"
      ],
      "execution_count": 75,
      "outputs": [
        {
          "output_type": "stream",
          "name": "stdout",
          "text": [
            "2\n"
          ]
        }
      ]
    },
    {
      "cell_type": "markdown",
      "metadata": {
        "id": "JaR8UmmsLjtZ"
      },
      "source": [
        "Using string method find, write an expression that produces the index of\n",
        "the first occurrence of o in 'tomato'."
      ]
    },
    {
      "cell_type": "code",
      "metadata": {
        "colab": {
          "base_uri": "https://localhost:8080/"
        },
        "id": "422_JYlBLkfD",
        "outputId": "0670a9f4-abd5-4f64-82b1-cad1f929fe41"
      },
      "source": [
        "a = 'tomato'\n",
        "print(a.find('o'))"
      ],
      "execution_count": 76,
      "outputs": [
        {
          "output_type": "stream",
          "name": "stdout",
          "text": [
            "1\n"
          ]
        }
      ]
    },
    {
      "cell_type": "markdown",
      "metadata": {
        "id": "l2_2QyscMAqM"
      },
      "source": [
        "Using string method find, write a single expression that produces the index\n",
        "of the second occurrence of o in 'tomato'. Hint: Call find twice.\n"
      ]
    },
    {
      "cell_type": "code",
      "metadata": {
        "colab": {
          "base_uri": "https://localhost:8080/"
        },
        "id": "b4hpfKEBMEI5",
        "outputId": "58e19d42-80b6-4504-bbdf-85fcef86e6d9"
      },
      "source": [
        "a = 'tomato'\n",
        "print(a.find('o',2))"
      ],
      "execution_count": 77,
      "outputs": [
        {
          "output_type": "stream",
          "name": "stdout",
          "text": [
            "5\n"
          ]
        }
      ]
    },
    {
      "cell_type": "markdown",
      "metadata": {
        "id": "mJkBS28CMbbi"
      },
      "source": [
        "Using your expression from the previous exercise, find the second o in\n",
        "'avocado'. If you don’t get the result you expect, revise the expression and\n",
        "try again"
      ]
    },
    {
      "cell_type": "code",
      "metadata": {
        "colab": {
          "base_uri": "https://localhost:8080/"
        },
        "id": "8NPkG1arMdyR",
        "outputId": "735547c9-a4aa-4568-e02b-39ff35d5be26"
      },
      "source": [
        "a = 'avocado'\n",
        "a.find('o',3)"
      ],
      "execution_count": 78,
      "outputs": [
        {
          "output_type": "execute_result",
          "data": {
            "text/plain": [
              "6"
            ]
          },
          "metadata": {},
          "execution_count": 78
        }
      ]
    },
    {
      "cell_type": "markdown",
      "metadata": {
        "id": "3n66SN1pMr3M"
      },
      "source": [
        "Using string method replace, write an expression that produces a string\n",
        "based on 'runner' with the n’s replaced by b’s"
      ]
    },
    {
      "cell_type": "code",
      "metadata": {
        "colab": {
          "base_uri": "https://localhost:8080/",
          "height": 35
        },
        "id": "W2yf-PCgMwid",
        "outputId": "3bcd4699-9dde-40ea-eeca-bf820d283237"
      },
      "source": [
        "a = 'runner'\n",
        "a.replace('n','b')"
      ],
      "execution_count": 79,
      "outputs": [
        {
          "output_type": "execute_result",
          "data": {
            "application/vnd.google.colaboratory.intrinsic+json": {
              "type": "string"
            },
            "text/plain": [
              "'rubber'"
            ]
          },
          "metadata": {},
          "execution_count": 79
        }
      ]
    },
    {
      "cell_type": "markdown",
      "metadata": {
        "id": "qHmnAT5JvM_p"
      },
      "source": [
        "Variable s refers to ' yes '. When a string method is called with s as its\n",
        "argument, the string 'yes' is produced. Which string method was called?"
      ]
    },
    {
      "cell_type": "code",
      "metadata": {
        "id": "c_Uick33vN_i"
      },
      "source": [
        "#strip"
      ],
      "execution_count": 79,
      "outputs": []
    },
    {
      "cell_type": "markdown",
      "metadata": {
        "id": "-5kAnqa6vOxx"
      },
      "source": [
        "Variable fruit refers to 'pineapple'. For the following function calls, in what\n",
        "order are the subexpressions evaluated?\n",
        "a. fruit.find('p', fruit.count('p'))\n",
        "b. fruit.count(fruit.upper().swapcase())\n",
        "c. fruit.replace(fruit.swapcase(), fruit.lower())\n"
      ]
    },
    {
      "cell_type": "code",
      "metadata": {
        "id": "cEpUwUrRvWtK",
        "outputId": "2d812ae9-c134-4f32-832f-a547b2d9c342",
        "colab": {
          "base_uri": "https://localhost:8080/"
        }
      },
      "source": [
        "fruit = 'pineapple'\n",
        "fruit.count('p')\n",
        "fruit.find('p', 3)\n"
      ],
      "execution_count": 80,
      "outputs": [
        {
          "output_type": "execute_result",
          "data": {
            "text/plain": [
              "5"
            ]
          },
          "metadata": {},
          "execution_count": 80
        }
      ]
    },
    {
      "cell_type": "code",
      "metadata": {
        "id": "_RQK_Arax68J",
        "outputId": "29216284-875c-4783-a1c6-d1b96f580bba",
        "colab": {
          "base_uri": "https://localhost:8080/",
          "height": 35
        }
      },
      "source": [
        "fruit1 = fruit.upper()\n",
        "fruit1.swapcase()"
      ],
      "execution_count": 81,
      "outputs": [
        {
          "output_type": "execute_result",
          "data": {
            "application/vnd.google.colaboratory.intrinsic+json": {
              "type": "string"
            },
            "text/plain": [
              "'pineapple'"
            ]
          },
          "metadata": {},
          "execution_count": 81
        }
      ]
    },
    {
      "cell_type": "code",
      "metadata": {
        "id": "xbiEBqLZx8UI",
        "outputId": "29a3b5ab-e570-44b2-bab1-e65d1b3c3d53",
        "colab": {
          "base_uri": "https://localhost:8080/",
          "height": 35
        }
      },
      "source": [
        "a = fruit.swapcase()\n",
        "b = fruit.lower()\n",
        "fruit.replace(a, b)"
      ],
      "execution_count": 82,
      "outputs": [
        {
          "output_type": "execute_result",
          "data": {
            "application/vnd.google.colaboratory.intrinsic+json": {
              "type": "string"
            },
            "text/plain": [
              "'pineapple'"
            ]
          },
          "metadata": {},
          "execution_count": 82
        }
      ]
    },
    {
      "cell_type": "markdown",
      "metadata": {
        "id": "yqoc3Y4RvXhh"
      },
      "source": [
        "Variable season refers to 'summer'. Using string method format and variable\n",
        "season, write an expression that produces 'I love summer!’\n"
      ]
    },
    {
      "cell_type": "code",
      "metadata": {
        "id": "r_345J7lvZlR",
        "outputId": "91e89741-bebb-4de5-c09e-9c2d447381dc",
        "colab": {
          "base_uri": "https://localhost:8080/"
        }
      },
      "source": [
        "abc = 'summer'\n",
        "print(\"I love {0}\".format(abc))"
      ],
      "execution_count": 83,
      "outputs": [
        {
          "output_type": "stream",
          "name": "stdout",
          "text": [
            "I love summer\n"
          ]
        }
      ]
    },
    {
      "cell_type": "markdown",
      "metadata": {
        "id": "RWi6j-GVvZvB"
      },
      "source": [
        "Variables side1, side2, and side3 refer to 3, 4, and 5, respectively. Using \n",
        "string\n",
        "method format and those three variables, write an expression that produces\n",
        "'The sides have lengths 3, 4, and 5.'\n"
      ]
    },
    {
      "cell_type": "code",
      "metadata": {
        "id": "r0Sf91sAvbtq",
        "outputId": "f6257b76-91c8-41d3-fe85-40a1b889acbf",
        "colab": {
          "base_uri": "https://localhost:8080/"
        }
      },
      "source": [
        "side1 = 3\n",
        "side2 = 4\n",
        "side3 = 5\n",
        "print(\"The sides have lengths {0},{1},and {2}\".format(side1,side2,side3))"
      ],
      "execution_count": 84,
      "outputs": [
        {
          "output_type": "stream",
          "name": "stdout",
          "text": [
            "The sides have lengths 3,4,and 5\n"
          ]
        }
      ]
    },
    {
      "cell_type": "markdown",
      "metadata": {
        "id": "yKs22zQ8vb06"
      },
      "source": [
        ".Using string methods, write expressions that produce the following:\n",
        "a. A copy of 'boolean' capitalized\n",
        "b. The first occurrence of '2' in 'CO2 H2O'\n",
        "c. The second occurrence of '2' in 'CO2 H2O'\n",
        "d. True if and only if 'Boolean' begins lowercase\n",
        "e. A copy of \"MoNDaY\" converted to lowercase and then capitalized\n",
        "f. A copy of \" Monday\" with the leading whitespace removed\n"
      ]
    },
    {
      "cell_type": "code",
      "metadata": {
        "id": "o-Dq_xizzB76",
        "outputId": "e61333af-8f7a-47c1-b033-56eb40b7507a",
        "colab": {
          "base_uri": "https://localhost:8080/",
          "height": 35
        }
      },
      "source": [
        "'boolean'.capitalize()"
      ],
      "execution_count": 85,
      "outputs": [
        {
          "output_type": "execute_result",
          "data": {
            "application/vnd.google.colaboratory.intrinsic+json": {
              "type": "string"
            },
            "text/plain": [
              "'Boolean'"
            ]
          },
          "metadata": {},
          "execution_count": 85
        }
      ]
    },
    {
      "cell_type": "code",
      "metadata": {
        "id": "1vNbT4TSzEqB",
        "outputId": "3a484f03-d32c-4d56-ac28-bd44601514c6",
        "colab": {
          "base_uri": "https://localhost:8080/"
        }
      },
      "source": [
        "'CO2 H2O'.find('2')"
      ],
      "execution_count": 86,
      "outputs": [
        {
          "output_type": "execute_result",
          "data": {
            "text/plain": [
              "2"
            ]
          },
          "metadata": {},
          "execution_count": 86
        }
      ]
    },
    {
      "cell_type": "code",
      "metadata": {
        "id": "TDfw41LPzFr7",
        "outputId": "377a9e88-9a7d-4382-d5a8-df2d7a9fbd70",
        "colab": {
          "base_uri": "https://localhost:8080/"
        }
      },
      "source": [
        "\n",
        "'CO2 H2O'.find('2',3)"
      ],
      "execution_count": 87,
      "outputs": [
        {
          "output_type": "execute_result",
          "data": {
            "text/plain": [
              "5"
            ]
          },
          "metadata": {},
          "execution_count": 87
        }
      ]
    },
    {
      "cell_type": "code",
      "metadata": {
        "id": "3IWX0L0uzKxI",
        "outputId": "56901518-ba34-4c6f-a2fc-3716e80137f5",
        "colab": {
          "base_uri": "https://localhost:8080/"
        }
      },
      "source": [
        "'Boolean'[0].islower()"
      ],
      "execution_count": 88,
      "outputs": [
        {
          "output_type": "execute_result",
          "data": {
            "text/plain": [
              "False"
            ]
          },
          "metadata": {},
          "execution_count": 88
        }
      ]
    },
    {
      "cell_type": "code",
      "metadata": {
        "id": "CFxlJ4k5zMAi",
        "outputId": "be445c44-6dcc-423a-d2be-ba3c1873e05e",
        "colab": {
          "base_uri": "https://localhost:8080/",
          "height": 35
        }
      },
      "source": [
        "\"MoNDaY\".lower().capitalize()"
      ],
      "execution_count": 89,
      "outputs": [
        {
          "output_type": "execute_result",
          "data": {
            "application/vnd.google.colaboratory.intrinsic+json": {
              "type": "string"
            },
            "text/plain": [
              "'Monday'"
            ]
          },
          "metadata": {},
          "execution_count": 89
        }
      ]
    },
    {
      "cell_type": "code",
      "metadata": {
        "id": "AzzRf5nyzNKq",
        "outputId": "fac51ebe-5cd3-4cad-e0a8-d28ac3e65a4d",
        "colab": {
          "base_uri": "https://localhost:8080/",
          "height": 35
        }
      },
      "source": [
        "\" Monday\".lstrip()"
      ],
      "execution_count": 90,
      "outputs": [
        {
          "output_type": "execute_result",
          "data": {
            "application/vnd.google.colaboratory.intrinsic+json": {
              "type": "string"
            },
            "text/plain": [
              "'Monday'"
            ]
          },
          "metadata": {},
          "execution_count": 90
        }
      ]
    },
    {
      "cell_type": "code",
      "metadata": {
        "id": "cssUkZF9zWjL"
      },
      "source": [
        "def total_occurrences(s1, s2, ch):\n",
        "  return s1.count(ch) + s2.count(ch)"
      ],
      "execution_count": 91,
      "outputs": []
    },
    {
      "cell_type": "code",
      "metadata": {
        "id": "F1BHdnP_zeV2",
        "outputId": "1e77461c-f9dc-4953-c52d-937fa4cf61bc",
        "colab": {
          "base_uri": "https://localhost:8080/"
        }
      },
      "source": [
        "total_occurrences('green','purple','b')"
      ],
      "execution_count": 92,
      "outputs": [
        {
          "output_type": "execute_result",
          "data": {
            "text/plain": [
              "0"
            ]
          },
          "metadata": {},
          "execution_count": 92
        }
      ]
    }
  ]
}