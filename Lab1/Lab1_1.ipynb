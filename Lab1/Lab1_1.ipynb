{
  "nbformat": 4,
  "nbformat_minor": 0,
  "metadata": {
    "colab": {
      "name": "Lab1.1.ipynb",
      "provenance": [],
      "authorship_tag": "ABX9TyOjyuKf844CrDpVQaIT7/w0",
      "include_colab_link": true
    },
    "kernelspec": {
      "name": "python3",
      "display_name": "Python 3"
    },
    "language_info": {
      "name": "python"
    }
  },
  "cells": [
    {
      "cell_type": "markdown",
      "metadata": {
        "id": "view-in-github",
        "colab_type": "text"
      },
      "source": [
        "<a href=\"https://colab.research.google.com/github/zanehmt/AdvancedPythonPrograming/blob/main/Lab1/Lab1_1.ipynb\" target=\"_parent\"><img src=\"https://colab.research.google.com/assets/colab-badge.svg\" alt=\"Open In Colab\"/></a>"
      ]
    },
    {
      "cell_type": "code",
      "metadata": {
        "id": "TgSw1ssrQdtu"
      },
      "source": [
        "import math"
      ],
      "execution_count": 1,
      "outputs": []
    },
    {
      "cell_type": "markdown",
      "metadata": {
        "id": "GBvgZq8vQgSP"
      },
      "source": [
        "a. Write an expression that produces the floor of -2.8."
      ]
    },
    {
      "cell_type": "code",
      "metadata": {
        "colab": {
          "base_uri": "https://localhost:8080/"
        },
        "id": "bShxOCBmQn1-",
        "outputId": "4bb4e8bf-90e9-4462-840a-2a71449ab6c0"
      },
      "source": [
        "math.floor(-2.8)"
      ],
      "execution_count": null,
      "outputs": [
        {
          "output_type": "execute_result",
          "data": {
            "text/plain": [
              "-3"
            ]
          },
          "metadata": {},
          "execution_count": 3
        }
      ]
    },
    {
      "cell_type": "markdown",
      "metadata": {
        "id": "eXtdwTidQq2v"
      },
      "source": [
        "Write an expression that rounds the value of -4.3 and then produces\n",
        "the absolute value of that result"
      ]
    },
    {
      "cell_type": "code",
      "metadata": {
        "colab": {
          "base_uri": "https://localhost:8080/"
        },
        "id": "XbLdycvpQvrn",
        "outputId": "3e035b8f-ebf5-49b8-e813-a804da11b050"
      },
      "source": [
        "abs(round(-4.3))"
      ],
      "execution_count": null,
      "outputs": [
        {
          "output_type": "execute_result",
          "data": {
            "text/plain": [
              "4"
            ]
          },
          "metadata": {},
          "execution_count": 4
        }
      ]
    },
    {
      "cell_type": "markdown",
      "metadata": {
        "id": "_Lpp27oZQx83"
      },
      "source": [
        "Write an expression that produces the ceiling of the sine of 34.5"
      ]
    },
    {
      "cell_type": "code",
      "metadata": {
        "colab": {
          "base_uri": "https://localhost:8080/"
        },
        "id": "KpPRH4Q5Q0AX",
        "outputId": "e3d6a311-636c-44f8-fc91-1d9aafc63376"
      },
      "source": [
        "math.ceil(math.sin(34.5))"
      ],
      "execution_count": null,
      "outputs": [
        {
          "output_type": "execute_result",
          "data": {
            "text/plain": [
              "1"
            ]
          },
          "metadata": {},
          "execution_count": 5
        }
      ]
    },
    {
      "cell_type": "markdown",
      "metadata": {
        "id": "Tu8ceLyHQ8YY"
      },
      "source": [
        "B. Import module calendar"
      ]
    },
    {
      "cell_type": "code",
      "metadata": {
        "id": "zmaJCbW6RHJ7"
      },
      "source": [
        "import calendar"
      ],
      "execution_count": null,
      "outputs": []
    },
    {
      "cell_type": "markdown",
      "metadata": {
        "id": "tbKnQC7qREOv"
      },
      "source": [
        "C/Using function help, read the description of function isleap."
      ]
    },
    {
      "cell_type": "code",
      "metadata": {
        "id": "xq9Z0vxBRATo"
      },
      "source": [
        "help(calendar.isleap(2016))"
      ],
      "execution_count": null,
      "outputs": []
    },
    {
      "cell_type": "markdown",
      "metadata": {
        "id": "gSwL2Gq7RiMQ"
      },
      "source": [
        "D/ Use isleap to determine the next leap year"
      ]
    },
    {
      "cell_type": "code",
      "metadata": {
        "colab": {
          "base_uri": "https://localhost:8080/"
        },
        "id": "gXS5TC5GReO6",
        "outputId": "65364bf4-73d0-4c43-8c16-e7bb7ea890c8"
      },
      "source": [
        "calendar.isleap(2016)\n"
      ],
      "execution_count": null,
      "outputs": [
        {
          "output_type": "execute_result",
          "data": {
            "text/plain": [
              "True"
            ]
          },
          "metadata": {},
          "execution_count": 11
        }
      ]
    },
    {
      "cell_type": "markdown",
      "metadata": {
        "id": "SyuTrRwQSE-K"
      },
      "source": [
        "E/Use dir to get a list of what calendar contains"
      ]
    },
    {
      "cell_type": "code",
      "metadata": {
        "id": "ePQxnZQaRvPO"
      },
      "source": [
        "dir(calendar)"
      ],
      "execution_count": null,
      "outputs": []
    },
    {
      "cell_type": "code",
      "metadata": {
        "colab": {
          "base_uri": "https://localhost:8080/"
        },
        "id": "5ROJRf_JRw2I",
        "outputId": "e9013bb0-93e1-462a-bd96-d92cef17a22a"
      },
      "source": [
        "calendar.leapdays(2000, 2050)\n"
      ],
      "execution_count": null,
      "outputs": [
        {
          "output_type": "execute_result",
          "data": {
            "text/plain": [
              "13"
            ]
          },
          "metadata": {},
          "execution_count": 13
        }
      ]
    },
    {
      "cell_type": "code",
      "metadata": {
        "colab": {
          "base_uri": "https://localhost:8080/"
        },
        "id": "c4Eo7TsDSCof",
        "outputId": "337dc692-c203-47f7-9ea7-7c6d7499df38"
      },
      "source": [
        "calendar.weekday(2016, 7, 29)"
      ],
      "execution_count": null,
      "outputs": [
        {
          "output_type": "execute_result",
          "data": {
            "text/plain": [
              "4"
            ]
          },
          "metadata": {},
          "execution_count": 14
        }
      ]
    }
  ]
}