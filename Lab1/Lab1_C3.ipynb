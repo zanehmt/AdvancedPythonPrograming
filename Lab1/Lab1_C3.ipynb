{
  "nbformat": 4,
  "nbformat_minor": 0,
  "metadata": {
    "colab": {
      "name": "Untitled2.ipynb",
      "provenance": [],
      "collapsed_sections": [],
      "toc_visible": true,
      "authorship_tag": "ABX9TyPwKay0lQa8hY8l7PmN5//G",
      "include_colab_link": true
    },
    "kernelspec": {
      "name": "python3",
      "display_name": "Python 3"
    },
    "language_info": {
      "name": "python"
    }
  },
  "cells": [
    {
      "cell_type": "markdown",
      "metadata": {
        "id": "view-in-github",
        "colab_type": "text"
      },
      "source": [
        "<a href=\"https://colab.research.google.com/github/zanehmt/AdvancedPythonPrograming/blob/main/Lab1/Lab1_C3.ipynb\" target=\"_parent\"><img src=\"https://colab.research.google.com/assets/colab-badge.svg\" alt=\"Open In Colab\"/></a>"
      ]
    },
    {
      "cell_type": "code",
      "metadata": {
        "colab": {
          "base_uri": "https://localhost:8080/"
        },
        "id": "FDgyK8X3FAn-",
        "outputId": "e55557bd-76ce-4280-a811-a117ff555f24"
      },
      "source": [
        "min(2,3,4)"
      ],
      "execution_count": 27,
      "outputs": [
        {
          "output_type": "execute_result",
          "data": {
            "text/plain": [
              "2"
            ]
          },
          "metadata": {},
          "execution_count": 27
        }
      ]
    },
    {
      "cell_type": "code",
      "metadata": {
        "id": "YE3w-CvnGUAU",
        "colab": {
          "base_uri": "https://localhost:8080/"
        },
        "outputId": "e135db2c-cb84-4758-d2ac-fdf4f3c73832"
      },
      "source": [
        "max(2, -3, 4, 7, -5)"
      ],
      "execution_count": 28,
      "outputs": [
        {
          "output_type": "execute_result",
          "data": {
            "text/plain": [
              "7"
            ]
          },
          "metadata": {},
          "execution_count": 28
        }
      ]
    },
    {
      "cell_type": "code",
      "metadata": {
        "colab": {
          "base_uri": "https://localhost:8080/"
        },
        "id": "eThcS-BzFaRT",
        "outputId": "ff4a4eee-bce1-4fe4-b5ba-4cca9ca79896"
      },
      "source": [
        "max(2, -3, min(4, 7), -5)\n"
      ],
      "execution_count": 29,
      "outputs": [
        {
          "output_type": "execute_result",
          "data": {
            "text/plain": [
              "4"
            ]
          },
          "metadata": {},
          "execution_count": 29
        }
      ]
    },
    {
      "cell_type": "markdown",
      "metadata": {
        "id": "uHgNs-A5GhJe"
      },
      "source": [
        "Bài 2\n"
      ]
    },
    {
      "cell_type": "code",
      "metadata": {
        "id": "-j_VJbz_Gi56",
        "colab": {
          "base_uri": "https://localhost:8080/"
        },
        "outputId": "f0c74575-7359-43e4-e0fa-a73dd1ded7ca"
      },
      "source": [
        "min(max(3, 4), abs(-5))"
      ],
      "execution_count": 30,
      "outputs": [
        {
          "output_type": "execute_result",
          "data": {
            "text/plain": [
              "4"
            ]
          },
          "metadata": {},
          "execution_count": 30
        }
      ]
    },
    {
      "cell_type": "code",
      "metadata": {
        "id": "Rin8a0f5GnHa",
        "colab": {
          "base_uri": "https://localhost:8080/"
        },
        "outputId": "1df67401-8911-4b2c-e401-3781515fb3a0"
      },
      "source": [
        "abs(min(4, 6, max(2, 8)))"
      ],
      "execution_count": 31,
      "outputs": [
        {
          "output_type": "execute_result",
          "data": {
            "text/plain": [
              "4"
            ]
          },
          "metadata": {},
          "execution_count": 31
        }
      ]
    },
    {
      "cell_type": "code",
      "metadata": {
        "id": "ZmXRhxlGGqr6",
        "colab": {
          "base_uri": "https://localhost:8080/"
        },
        "outputId": "42122e10-b120-4d8a-af74-76cba9746b5a"
      },
      "source": [
        "round(max(5.572, 3.258), abs(-2))"
      ],
      "execution_count": 32,
      "outputs": [
        {
          "output_type": "execute_result",
          "data": {
            "text/plain": [
              "5.57"
            ]
          },
          "metadata": {},
          "execution_count": 32
        }
      ]
    },
    {
      "cell_type": "code",
      "metadata": {
        "id": "J28-eD81Gs16"
      },
      "source": [
        "def triple(num):\n",
        "  return num * 3"
      ],
      "execution_count": 33,
      "outputs": []
    },
    {
      "cell_type": "code",
      "metadata": {
        "id": "BOo3AyLXGzYz",
        "colab": {
          "base_uri": "https://localhost:8080/"
        },
        "outputId": "3e9784bb-3bee-439e-cd01-def671cd0624"
      },
      "source": [
        "triple(3)"
      ],
      "execution_count": 34,
      "outputs": [
        {
          "output_type": "execute_result",
          "data": {
            "text/plain": [
              "9"
            ]
          },
          "metadata": {},
          "execution_count": 34
        }
      ]
    },
    {
      "cell_type": "code",
      "metadata": {
        "id": "rtdxWfQ4G3ZE"
      },
      "source": [
        "def absolute_difference(number1, number2):\n",
        "  return abs(number1 - number2)\n"
      ],
      "execution_count": 35,
      "outputs": []
    },
    {
      "cell_type": "code",
      "metadata": {
        "id": "gxBCeG31G8Uz",
        "colab": {
          "base_uri": "https://localhost:8080/"
        },
        "outputId": "cba2b610-c85a-4127-824b-05ffcd740e9b"
      },
      "source": [
        "absolute_difference(10,20)"
      ],
      "execution_count": 36,
      "outputs": [
        {
          "output_type": "execute_result",
          "data": {
            "text/plain": [
              "10"
            ]
          },
          "metadata": {},
          "execution_count": 36
        }
      ]
    },
    {
      "cell_type": "code",
      "metadata": {
        "id": "YTffk4EmHBnn"
      },
      "source": [
        "def km_to_miles(km):\n",
        "  return km / 1.6"
      ],
      "execution_count": 37,
      "outputs": []
    },
    {
      "cell_type": "code",
      "metadata": {
        "id": "VLu_sM_MHEqL",
        "colab": {
          "base_uri": "https://localhost:8080/"
        },
        "outputId": "81dc4a7e-c2dc-4e90-c675-99d0bf2ac4a1"
      },
      "source": [
        "km_to_miles(10)"
      ],
      "execution_count": 38,
      "outputs": [
        {
          "output_type": "execute_result",
          "data": {
            "text/plain": [
              "6.25"
            ]
          },
          "metadata": {},
          "execution_count": 38
        }
      ]
    },
    {
      "cell_type": "code",
      "metadata": {
        "id": "D30UjfPtHqXW"
      },
      "source": [
        "def average_grade(grade1, grade2, grade3):\n",
        "  return (grade1 + grade2 + grade3) / 3"
      ],
      "execution_count": 39,
      "outputs": []
    },
    {
      "cell_type": "code",
      "metadata": {
        "id": "7V_5s4XCHtR-",
        "colab": {
          "base_uri": "https://localhost:8080/"
        },
        "outputId": "80942044-c8ee-4dfa-d49b-70e6ea1ee028"
      },
      "source": [
        "average_grade(3,4,5)"
      ],
      "execution_count": 40,
      "outputs": [
        {
          "output_type": "execute_result",
          "data": {
            "text/plain": [
              "4.0"
            ]
          },
          "metadata": {},
          "execution_count": 40
        }
      ]
    },
    {
      "cell_type": "code",
      "metadata": {
        "id": "DbETotTcOL9V"
      },
      "source": [
        "def top_three_avg(grade1, grade2, grade3, grade4):\n",
        "\n",
        "\n",
        "  total = grade1 + grade2 + grade3 + grade4\n",
        "  top_three = total - min(grade1, grade2, grade3, grade4)\n",
        "  return top_three / 3\n",
        "\n"
      ],
      "execution_count": 41,
      "outputs": []
    },
    {
      "cell_type": "code",
      "metadata": {
        "id": "DQDM-0KcOiCP",
        "outputId": "71890dfa-311d-4baa-c6fb-d444157ee3f6",
        "colab": {
          "base_uri": "https://localhost:8080/"
        }
      },
      "source": [
        "def top_three_avg1(grade1, grade2, grade3, grade4):\n",
        "  return max(average_grade(grade1, grade2, grade3),\n",
        "    average_grade(grade1, grade2, grade4),\n",
        "    average_grade(grade1, grade3, grade4),\n",
        "    average_grade(grade2, grade3, grade4))\n",
        "\n",
        "print(top_three_avg1(2,3,4,5))"
      ],
      "execution_count": 42,
      "outputs": [
        {
          "output_type": "stream",
          "name": "stdout",
          "text": [
            "4.0\n"
          ]
        }
      ]
    },
    {
      "cell_type": "code",
      "metadata": {
        "id": "qAqMgbAfOg3o",
        "outputId": "9e2047e9-5dd4-4471-d884-124b01f279ed",
        "colab": {
          "base_uri": "https://localhost:8080/"
        }
      },
      "source": [
        "def top_three_avg2(grade1, grade2, grade3,grade4):\n",
        "  return (grade1 + grade2 + grade3) / 3\n",
        "print(top_three_avg2(1,2,3,4))"
      ],
      "execution_count": 43,
      "outputs": [
        {
          "output_type": "stream",
          "name": "stdout",
          "text": [
            "2.0\n"
          ]
        }
      ]
    },
    {
      "cell_type": "code",
      "metadata": {
        "id": "Px-TIHq_Ofjr",
        "colab": {
          "base_uri": "https://localhost:8080/"
        },
        "outputId": "c1e430c1-4adc-4d8d-a924-77567acd159f"
      },
      "source": [
        "top_three_avg(2,3,4,5)"
      ],
      "execution_count": 44,
      "outputs": [
        {
          "output_type": "execute_result",
          "data": {
            "text/plain": [
              "4.0"
            ]
          },
          "metadata": {},
          "execution_count": 44
        }
      ]
    },
    {
      "cell_type": "code",
      "metadata": {
        "id": "cCnSAfNs24Jx"
      },
      "source": [
        "def weeks_elapsed(day1, day2):\n",
        "    return int(abs((day1 - day2) / 7))"
      ],
      "execution_count": 45,
      "outputs": []
    },
    {
      "cell_type": "code",
      "metadata": {
        "id": "05RN6yHo2-Eu",
        "colab": {
          "base_uri": "https://localhost:8080/"
        },
        "outputId": "86dcbe76-5d56-4106-9380-572923eb1e55"
      },
      "source": [
        "weeks_elapsed(3,20)"
      ],
      "execution_count": 46,
      "outputs": [
        {
          "output_type": "execute_result",
          "data": {
            "text/plain": [
              "2"
            ]
          },
          "metadata": {},
          "execution_count": 46
        }
      ]
    },
    {
      "cell_type": "code",
      "metadata": {
        "id": "z7s-Vpm0Ow3j"
      },
      "source": [
        "def square(num):\n",
        "  return num**2"
      ],
      "execution_count": 47,
      "outputs": []
    },
    {
      "cell_type": "code",
      "metadata": {
        "id": "fAq9lalPPL3r",
        "colab": {
          "base_uri": "https://localhost:8080/"
        },
        "outputId": "bd79ac89-33f7-434f-ee64-3e115a84d686"
      },
      "source": [
        "square(4)"
      ],
      "execution_count": 48,
      "outputs": [
        {
          "output_type": "execute_result",
          "data": {
            "text/plain": [
              "16"
            ]
          },
          "metadata": {},
          "execution_count": 48
        }
      ]
    },
    {
      "cell_type": "code",
      "metadata": {
        "id": "NgfT6snLPObe"
      },
      "source": [
        "def binhphuong(num):\n",
        "  return num**2"
      ],
      "execution_count": 49,
      "outputs": []
    },
    {
      "cell_type": "code",
      "metadata": {
        "id": "ThV2oU9SP0PQ",
        "colab": {
          "base_uri": "https://localhost:8080/"
        },
        "outputId": "9e1e63ba-7cab-4415-d5ae-0559af024038"
      },
      "source": [
        "binhphuong(6)"
      ],
      "execution_count": 50,
      "outputs": [
        {
          "output_type": "execute_result",
          "data": {
            "text/plain": [
              "36"
            ]
          },
          "metadata": {},
          "execution_count": 50
        }
      ]
    }
  ]
}